{
 "cells": [
  {
   "cell_type": "code",
   "execution_count": 7,
   "metadata": {},
   "outputs": [
    {
     "name": "stdout",
     "output_type": "stream",
     "text": [
      "1.Enter Value\n",
      "2.Exit\n",
      "Choice : 1\n",
      "Enter The Name : A\n",
      "Enter Weight : 100\n",
      "Enter Profit : 30\n",
      "1.Enter Value\n",
      "2.Exit\n",
      "Choice : 1\n",
      "Enter The Name : B\n",
      "Enter Weight : 20\n",
      "Enter Profit : 10\n",
      "1.Enter Value\n",
      "2.Exit\n",
      "Choice : 1\n",
      "Enter The Name : C\n",
      "Enter Weight : 100\n",
      "Enter Profit : 40\n",
      "1.Enter Value\n",
      "2.Exit\n",
      "Choice : 2\n",
      "Enter The Total Capacity : 105\n"
     ]
    }
   ],
   "source": [
    "node = []\n",
    "ratioList = []\n",
    "graph = {}\n",
    "finalResult = {}\n",
    "totalProfit = 0\n",
    "\n",
    "while(1):\n",
    "    choice = int(input(\"1.Enter Value\\n2.Exit\\nChoice : \"))\n",
    "\n",
    "    if(choice == 1):\n",
    "        tempList = []\n",
    "        name = input(\"Enter The Name : \")\n",
    "        weight = int(input(\"Enter Weight : \"))\n",
    "        profit = int(input(\"Enter Profit : \"))\n",
    "        ratio = weight/profit\n",
    "\n",
    "        node.append(name)\n",
    "        ratioList.append(ratio)\n",
    "        tempList.append(weight)\n",
    "        tempList.append(profit)\n",
    "        tempList.append(ratio)\n",
    "\n",
    "        graph[name] = tempList\n",
    "        del tempList\n",
    "    else:\n",
    "        capacity = int(input(\"Enter The Total Capacity : \"))\n",
    "        break"
   ]
  },
  {
   "cell_type": "code",
   "execution_count": 15,
   "metadata": {},
   "outputs": [
    {
     "data": {
      "text/plain": [
       "[3.3333333333333335, 2.5, 2.0]"
      ]
     },
     "execution_count": 15,
     "metadata": {},
     "output_type": "execute_result"
    }
   ],
   "source": [
    "graph\n",
    "ratioList.sort(reverse=True)\n",
    "ratioList"
   ]
  },
  {
   "cell_type": "code",
   "execution_count": 9,
   "metadata": {},
   "outputs": [
    {
     "data": {
      "text/plain": [
       "['A', 'B', 'C']"
      ]
     },
     "execution_count": 9,
     "metadata": {},
     "output_type": "execute_result"
    }
   ],
   "source": [
    "node"
   ]
  },
  {
   "cell_type": "code",
   "execution_count": 13,
   "metadata": {},
   "outputs": [
    {
     "name": "stdout",
     "output_type": "stream",
     "text": [
      "hello\n",
      "A\n"
     ]
    }
   ],
   "source": [
    "for i in node:\n",
    "    if(graph[i][2] == ratioList[0]):\n",
    "        print(\"hello\")\n",
    "        print(i)\n",
    "    else:\n",
    "        pass"
   ]
  },
  {
   "cell_type": "code",
   "execution_count": 16,
   "metadata": {},
   "outputs": [
    {
     "data": {
      "text/plain": [
       "{'A': [100, 30, 3.3333333333333335], 'B': [20, 10, 2.0], 'C': [100, 40, 2.5]}"
      ]
     },
     "execution_count": 16,
     "metadata": {},
     "output_type": "execute_result"
    }
   ],
   "source": [
    "graph"
   ]
  },
  {
   "cell_type": "code",
   "execution_count": 17,
   "metadata": {},
   "outputs": [],
   "source": [
    "list1 = [1,2,3,4,5]"
   ]
  },
  {
   "cell_type": "code",
   "execution_count": 20,
   "metadata": {},
   "outputs": [
    {
     "data": {
      "text/plain": [
       "[1, 2, 5]"
      ]
     },
     "execution_count": 20,
     "metadata": {},
     "output_type": "execute_result"
    }
   ],
   "source": [
    "del list1[2]\n",
    "list1"
   ]
  },
  {
   "cell_type": "code",
   "execution_count": 26,
   "metadata": {},
   "outputs": [
    {
     "ename": "SyntaxError",
     "evalue": "invalid syntax (<ipython-input-26-3c703acc3aa7>, line 1)",
     "output_type": "error",
     "traceback": [
      "\u001b[0;36m  File \u001b[0;32m\"<ipython-input-26-3c703acc3aa7>\"\u001b[0;36m, line \u001b[0;32m1\u001b[0m\n\u001b[0;31m    graph.keys()[]\u001b[0m\n\u001b[0m                 ^\u001b[0m\n\u001b[0;31mSyntaxError\u001b[0m\u001b[0;31m:\u001b[0m invalid syntax\n"
     ]
    }
   ],
   "source": [
    "graph.keys()"
   ]
  },
  {
   "cell_type": "code",
   "execution_count": 27,
   "metadata": {},
   "outputs": [
    {
     "name": "stdout",
     "output_type": "stream",
     "text": [
      "hello\n",
      "A\n"
     ]
    }
   ],
   "source": [
    "for i in node:\n",
    "    if i in graph.keys():\n",
    "        if(graph[i][2] == ratioList[0]):\n",
    "            print(\"hello\")\n",
    "            print(i)\n",
    "            \n",
    "        else:\n",
    "            pass"
   ]
  },
  {
   "cell_type": "code",
   "execution_count": null,
   "metadata": {},
   "outputs": [],
   "source": []
  }
 ],
 "metadata": {
  "kernelspec": {
   "display_name": "Python 3",
   "language": "python",
   "name": "python3"
  },
  "language_info": {
   "codemirror_mode": {
    "name": "ipython",
    "version": 3
   },
   "file_extension": ".py",
   "mimetype": "text/x-python",
   "name": "python",
   "nbconvert_exporter": "python",
   "pygments_lexer": "ipython3",
   "version": "3.6.4"
  }
 },
 "nbformat": 4,
 "nbformat_minor": 2
}
